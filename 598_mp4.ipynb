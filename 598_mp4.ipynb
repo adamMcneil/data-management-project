{
  "cells": [
    {
      "cell_type": "markdown",
      "metadata": {
        "id": "view-in-github",
        "colab_type": "text"
      },
      "source": [
        "<a href=\"https://colab.research.google.com/github/adamMcneil/data-management-project/blob/main/598_mp4.ipynb\" target=\"_parent\"><img src=\"https://colab.research.google.com/assets/colab-badge.svg\" alt=\"Open In Colab\"/></a>"
      ]
    },
    {
      "cell_type": "code",
      "execution_count": 1,
      "metadata": {
        "collapsed": true,
        "colab": {
          "base_uri": "https://localhost:8080/"
        },
        "id": "BHOxFKTMPPFV",
        "outputId": "746ed85d-84aa-4764-ca90-8d308b4b2d15"
      },
      "outputs": [
        {
          "output_type": "stream",
          "name": "stdout",
          "text": [
            "Requirement already satisfied: h5py in /usr/local/lib/python3.11/dist-packages (3.13.0)\n",
            "Collecting faiss-cpu\n",
            "  Downloading faiss_cpu-1.10.0-cp311-cp311-manylinux_2_28_x86_64.whl.metadata (4.4 kB)\n",
            "Requirement already satisfied: requests in /usr/local/lib/python3.11/dist-packages (2.32.3)\n",
            "Collecting scann\n",
            "  Downloading scann-1.4.0-cp311-cp311-manylinux_2_27_x86_64.whl.metadata (5.8 kB)\n",
            "Requirement already satisfied: numpy>=1.19.3 in /usr/local/lib/python3.11/dist-packages (from h5py) (2.0.2)\n",
            "Requirement already satisfied: packaging in /usr/local/lib/python3.11/dist-packages (from faiss-cpu) (24.2)\n",
            "Requirement already satisfied: charset-normalizer<4,>=2 in /usr/local/lib/python3.11/dist-packages (from requests) (3.4.1)\n",
            "Requirement already satisfied: idna<4,>=2.5 in /usr/local/lib/python3.11/dist-packages (from requests) (3.10)\n",
            "Requirement already satisfied: urllib3<3,>=1.21.1 in /usr/local/lib/python3.11/dist-packages (from requests) (2.3.0)\n",
            "Requirement already satisfied: certifi>=2017.4.17 in /usr/local/lib/python3.11/dist-packages (from requests) (2025.1.31)\n",
            "Requirement already satisfied: protobuf in /usr/local/lib/python3.11/dist-packages (from scann) (5.29.4)\n",
            "Downloading faiss_cpu-1.10.0-cp311-cp311-manylinux_2_28_x86_64.whl (30.7 MB)\n",
            "\u001b[2K   \u001b[90m━━━━━━━━━━━━━━━━━━━━━━━━━━━━━━━━━━━━━━━━\u001b[0m \u001b[32m30.7/30.7 MB\u001b[0m \u001b[31m42.5 MB/s\u001b[0m eta \u001b[36m0:00:00\u001b[0m\n",
            "\u001b[?25hDownloading scann-1.4.0-cp311-cp311-manylinux_2_27_x86_64.whl (11.8 MB)\n",
            "\u001b[2K   \u001b[90m━━━━━━━━━━━━━━━━━━━━━━━━━━━━━━━━━━━━━━━━\u001b[0m \u001b[32m11.8/11.8 MB\u001b[0m \u001b[31m62.0 MB/s\u001b[0m eta \u001b[36m0:00:00\u001b[0m\n",
            "\u001b[?25hInstalling collected packages: scann, faiss-cpu\n",
            "Successfully installed faiss-cpu-1.10.0 scann-1.4.0\n"
          ]
        }
      ],
      "source": [
        "import sys\n",
        "!{sys.executable} -m pip install h5py faiss-cpu requests scann\n",
        "import faiss\n",
        "import h5py\n",
        "import numpy as np\n",
        "import time\n",
        "import matplotlib.pyplot as plt\n",
        "import os\n",
        "import requests\n",
        "import scann\n",
        "\n",
        "SIFT1M_URL = \"http://ann-benchmarks.com/sift-128-euclidean.hdf5\"\n",
        "SIFT1M_FILENAME = \"sift-128-euclidean.hdf5\""
      ]
    },
    {
      "cell_type": "code",
      "execution_count": 2,
      "metadata": {
        "id": "qa_yzdxePPFW"
      },
      "outputs": [],
      "source": [
        "def download_sift1m():\n",
        "    \"\"\"Downloads the SIFT1M dataset if it's not already present.\"\"\"\n",
        "    if not os.path.exists(SIFT1M_FILENAME):\n",
        "        print(\"Downloading SIFT1M dataset...\")\n",
        "        response = requests.get(SIFT1M_URL, stream=True)\n",
        "        with open(SIFT1M_FILENAME, \"wb\") as f:\n",
        "            for chunk in response.iter_content(chunk_size=8192):\n",
        "                f.write(chunk)\n",
        "        print(\"Download complete.\")\n",
        "    else:\n",
        "        print(\"SIFT1M dataset already exists.\")"
      ]
    },
    {
      "cell_type": "code",
      "execution_count": 3,
      "metadata": {
        "id": "94SAPcExPPFW"
      },
      "outputs": [],
      "source": [
        "def load_sift1m():\n",
        "    with h5py.File(\"sift-128-euclidean.hdf5\", \"r\") as f:\n",
        "        train_data = np.array(f[\"train\"], dtype=np.float32)\n",
        "        test_queries = np.array(f[\"test\"], dtype=np.float32)\n",
        "        ground_truth = np.array(f[\"neighbors\"], dtype=np.int64)[:, 0]\n",
        "    print(\"Dataset loaded.\")\n",
        "    return train_data, test_queries, ground_truth"
      ]
    },
    {
      "cell_type": "code",
      "execution_count": 4,
      "metadata": {
        "id": "uxlEyIxwPPFW"
      },
      "outputs": [],
      "source": [
        "def evaluate_hnsw(train_data, test_queries, ground_truth, M=32, efSearch_vals=[10, 50, 100, 200]):\n",
        "    d = train_data.shape[1]\n",
        "    index = faiss.IndexHNSWFlat(d, M, faiss.METRIC_L2)\n",
        "    index.hnsw.efConstruction = 200\n",
        "    index.add(train_data)\n",
        "\n",
        "    results = []\n",
        "    for ef in efSearch_vals:\n",
        "        print(\"Testing ef value:\", ef)\n",
        "        index.hnsw.efSearch = ef\n",
        "        start_time = time.time()\n",
        "        _, indices = index.search(test_queries, 1)\n",
        "        elapsed_time = time.time() - start_time\n",
        "\n",
        "        recall = np.mean(indices[:, 0] == ground_truth)\n",
        "        qps = len(test_queries) / elapsed_time\n",
        "        results.append((ef, recall, qps, 0))\n",
        "        print(\"Took:\", elapsed_time, \"seconds\")\n",
        "\n",
        "    print(\"HNSW evaluated.\")\n",
        "\n",
        "    return results"
      ]
    },
    {
      "cell_type": "code",
      "source": [
        "def evaluate_scann(train_data, test_queries, ground_truth, num_neighbors=1, num_search_trees=30, num_leaves=1000, num_leaves_to_search_vals=[10, 50, 100, 200], quantize=True):\n",
        "    train_data = train_data.astype(np.float32)\n",
        "    test_queries = test_queries.astype(np.float32)\n",
        "\n",
        "    results = []\n",
        "\n",
        "    for num_leaves_to_search in num_leaves_to_search_vals:\n",
        "        print(\"Building index\")\n",
        "        index = scann.scann_ops_pybind.builder(train_data, num_neighbors, \"dot_product\") \\\n",
        "        .tree(num_leaves=num_leaves, num_leaves_to_search=num_leaves_to_search, training_sample_size=len(train_data)) \\\n",
        "        .score_ah(2, anisotropic_quantization_threshold=0.2).reorder(100).build()\n",
        "\n",
        "        print(\"Testing num_leaves_to_search:\", num_leaves_to_search)\n",
        "        start_time = time.time()\n",
        "        indices = []\n",
        "        for query in test_queries:\n",
        "            i, _ = index.search(query, 1)\n",
        "            indices.append(i)\n",
        "        elapsed_time = time.time() - start_time\n",
        "\n",
        "        print(\"Took:\", elapsed_time, \"seconds\")\n",
        "\n",
        "        indices = np.array(indices)\n",
        "        recall = np.mean(indices[:, 0] == ground_truth)\n",
        "        print(\"Recall:\", recall)\n",
        "        qps = len(test_queries) / elapsed_time\n",
        "        print(\"QPS:\", qps)\n",
        "\n",
        "        results.append((num_leaves_to_search, recall, qps, 0))\n",
        "\n",
        "    print(\"ScaNN evaluated.\")\n",
        "\n",
        "    return results"
      ],
      "metadata": {
        "id": "PYj3zK93nQ90"
      },
      "execution_count": 5,
      "outputs": []
    },
    {
      "cell_type": "code",
      "execution_count": 6,
      "metadata": {
        "id": "0eQc3IuVPPFW"
      },
      "outputs": [],
      "source": [
        "def evaluate_lsh(train_data, test_queries, ground_truth, nbits_vals=[32, 64, 512, 768]):\n",
        "    d = train_data.shape[1]\n",
        "    results = []\n",
        "\n",
        "    for nbits in nbits_vals:\n",
        "        index = faiss.IndexLSH(d, nbits)\n",
        "        index.train(train_data)\n",
        "        index.add(train_data)\n",
        "\n",
        "        start_time = time.time()\n",
        "        _, indices = index.search(test_queries, 1)\n",
        "        elapsed_time = time.time() - start_time\n",
        "\n",
        "        recall = np.mean(indices[:, 0] == ground_truth)\n",
        "        qps = len(test_queries) / elapsed_time\n",
        "        results.append((nbits, recall, qps, 0))\n",
        "\n",
        "    print(\"LSH evaluated.\")\n",
        "\n",
        "    return results"
      ]
    },
    {
      "cell_type": "code",
      "source": [
        "def eval_fiass(train_data, test_queries, ground_truth, batches=[1, 200, 500, 1000]):\n",
        "    results = []\n",
        "    total = train_data.shape[0]\n",
        "    for batch_size in batches:\n",
        "        dim = train_data.shape[1]\n",
        "        quantizer = faiss.IndexFlatL2(dim)\n",
        "        nlist = 100\n",
        "        index = faiss.IndexIVFFlat(quantizer, dim, nlist, faiss.METRIC_L2)\n",
        "        batch_len = total // batch_size\n",
        "        print(\"Building Index\")\n",
        "        start_time = time.time()\n",
        "        for i in range(batch_size):\n",
        "            start = i * batch_len\n",
        "            end = (i + 1) * batch_len if i != batch_size - 1 else total\n",
        "            index.train(train_data[start:end])\n",
        "            index.add(train_data[start:end])\n",
        "        build_time = time.time() - start_time\n",
        "        print(\"Build time:\", build_time)\n",
        "\n",
        "        print(\"Testing Search\")\n",
        "        start_time = time.time()\n",
        "        distances, indices = index.search(test_queries, 1)\n",
        "        elapsed_time = time.time() - start_time\n",
        "\n",
        "        recall = np.mean(indices[:, 0] == ground_truth)\n",
        "        print(\"Recall:\", recall)\n",
        "        qps = len(test_queries) / elapsed_time\n",
        "        print(\"QPS:\", qps)\n",
        "        results.append((batch_size, recall, qps, build_time, \"batch_size\"))\n",
        "    return results"
      ],
      "metadata": {
        "id": "oF1ZzrF3Wv4N"
      },
      "execution_count": 44,
      "outputs": []
    },
    {
      "cell_type": "code",
      "execution_count": 41,
      "metadata": {
        "id": "lusnj10jPPFW"
      },
      "outputs": [],
      "source": [
        "def plot_results(results):\n",
        "    plt.figure(figsize=(8, 6))\n",
        "\n",
        "    for result in results:\n",
        "        print(result)\n",
        "        for metric, recall, qps, build_time, label in result:\n",
        "            print(metric)\n",
        "            plt.scatter(qps, recall, label=f'{label}={metric}', marker='o')\n",
        "\n",
        "    plt.xlabel(\"Queries Per Second (QPS)\")\n",
        "    plt.ylabel(\"1-Recall@1\")\n",
        "    plt.title(\"QPS vs Recall\")\n",
        "    plt.legend()\n",
        "    plt.grid()\n",
        "    plt.show()"
      ]
    },
    {
      "cell_type": "code",
      "source": [
        "download_sift1m()\n",
        "train_data, test_queries, ground_truth = load_sift1m()\n",
        "\n",
        "\n",
        "print(\"Train data shape:\", train_data.shape)\n",
        "print(train_data)\n",
        "print(\"Test queries shape:\", test_queries.shape)\n",
        "print(test_queries)\n",
        "print(\"Ground truth shape:\", ground_truth.shape)\n",
        "print(ground_truth)"
      ],
      "metadata": {
        "colab": {
          "base_uri": "https://localhost:8080/"
        },
        "id": "zl6EUdmziMDY",
        "outputId": "e6dd44ef-db85-477b-e9c0-d42ffcca8518"
      },
      "execution_count": 9,
      "outputs": [
        {
          "output_type": "stream",
          "name": "stdout",
          "text": [
            "Downloading SIFT1M dataset...\n",
            "Download complete.\n",
            "Dataset loaded.\n",
            "Train data shape: (1000000, 128)\n",
            "[[  0.  16.  35. ...  25.  23.   1.]\n",
            " [ 14.  35.  19. ...  11.  21.  33.]\n",
            " [  0.   1.   5. ...   4.  23.  10.]\n",
            " ...\n",
            " [ 30.  12.  12. ...  50.  10.   0.]\n",
            " [  0.   5.  12. ...   1.   2.  13.]\n",
            " [114.  31.   0. ...  25.  16.   0.]]\n",
            "Test queries shape: (10000, 128)\n",
            "[[  1.   3.  11. ...  42.  48.  11.]\n",
            " [ 40.  25.  11. ...   3.  19.  13.]\n",
            " [ 28.   4.   3. ...   2.  54.  47.]\n",
            " ...\n",
            " [  0.  15.  64. ...   3.  62. 118.]\n",
            " [131.   2.   0. ...   7.   0.   0.]\n",
            " [ 23.   0.   0. ...  79.  16.   4.]]\n",
            "Ground truth shape: (10000,)\n",
            "[932085 413247 669835 ... 123855 755327 874343]\n"
          ]
        }
      ]
    },
    {
      "cell_type": "code",
      "source": [
        "hnsw_results = evaluate_hnsw(train_data, test_queries, ground_truth)\n",
        "print(hnsw_results)"
      ],
      "metadata": {
        "id": "wYfyY2zyUev3",
        "colab": {
          "base_uri": "https://localhost:8080/"
        },
        "collapsed": true,
        "outputId": "ca6f8a01-b97e-40f9-af7e-fa45839c4072"
      },
      "execution_count": 14,
      "outputs": [
        {
          "output_type": "stream",
          "name": "stdout",
          "text": [
            "Testing ef value: 10\n",
            "Took: 0.8069179058074951 seconds\n",
            "Testing ef value: 50\n",
            "Took: 3.288196563720703 seconds\n",
            "Testing ef value: 100\n",
            "Took: 4.7464759349823 seconds\n",
            "Testing ef value: 200\n",
            "Took: 8.490572214126587 seconds\n",
            "HNSW evaluated.\n",
            "[(10, np.float64(0.8513), 12392.834423463248), (50, np.float64(0.9783), 3041.180722080881), (100, np.float64(0.9899), 2106.8262300243373), (200, np.float64(0.9922), 1177.7769210138783)]\n"
          ]
        }
      ]
    },
    {
      "cell_type": "code",
      "source": [
        "scann_results = evaluate_scann(train_data, test_queries, ground_truth)\n",
        "print(scann_results)"
      ],
      "metadata": {
        "colab": {
          "base_uri": "https://localhost:8080/"
        },
        "id": "rv94lDT6aGJ0",
        "outputId": "ed8f4dd0-adcf-4fcc-b0cb-02085b750584"
      },
      "execution_count": 27,
      "outputs": [
        {
          "output_type": "stream",
          "name": "stdout",
          "text": [
            "Building index\n",
            "Testing num_leaves_to_search: 10\n",
            "Took: 2.010769844055176 seconds\n",
            "Recall: 0.7501\n",
            "QPS: 4973.219600226707\n",
            "Building index\n",
            "Testing num_leaves_to_search: 50\n",
            "Took: 5.273320198059082 seconds\n",
            "Recall: 0.8366\n",
            "QPS: 1896.3384783045485\n",
            "Building index\n",
            "Testing num_leaves_to_search: 100\n",
            "Took: 9.162153005599976 seconds\n",
            "Recall: 0.8419\n",
            "QPS: 1091.4465185080326\n",
            "Building index\n",
            "Testing num_leaves_to_search: 200\n",
            "Took: 15.679077625274658 seconds\n",
            "Recall: 0.8428\n",
            "QPS: 637.7926201398486\n",
            "ScaNN evaluated.\n",
            "[(10, np.float64(0.7501), 4973.219600226707), (50, np.float64(0.8366), 1896.3384783045485), (100, np.float64(0.8419), 1091.4465185080326), (200, np.float64(0.8428), 637.7926201398486)]\n"
          ]
        }
      ]
    },
    {
      "cell_type": "code",
      "source": [
        "fiass_results = eval_fiass(train_data, test_queries, ground_truth)\n",
        "print(fiass_results)"
      ],
      "metadata": {
        "colab": {
          "base_uri": "https://localhost:8080/"
        },
        "id": "oVBGq4trZDME",
        "outputId": "c09b34c3-8b43-4303-b8f5-6a95a09acde8"
      },
      "execution_count": 45,
      "outputs": [
        {
          "output_type": "stream",
          "name": "stdout",
          "text": [
            "Building Index\n",
            "Build time: 2.2208569049835205\n",
            "Testing Search\n",
            "Recall: 0.6144\n",
            "QPS: 1814.6840041661155\n",
            "Building Index\n",
            "Build time: 1.4595263004302979\n",
            "Testing Search\n",
            "Recall: 0.5918\n",
            "QPS: 1408.1612844884282\n",
            "Building Index\n",
            "Build time: 1.9700124263763428\n",
            "Testing Search\n",
            "Recall: 0.5914\n",
            "QPS: 1381.981076864144\n",
            "Building Index\n",
            "Build time: 1.379971981048584\n",
            "Testing Search\n",
            "Recall: 0.5832\n",
            "QPS: 1098.791600223934\n",
            "[(1, np.float64(0.6144), 1814.6840041661155, 2.2208569049835205, 'batch_size'), (200, np.float64(0.5918), 1408.1612844884282, 1.4595263004302979, 'batch_size'), (500, np.float64(0.5914), 1381.981076864144, 1.9700124263763428, 'batch_size'), (1000, np.float64(0.5832), 1098.791600223934, 1.379971981048584, 'batch_size')]\n"
          ]
        }
      ]
    },
    {
      "cell_type": "code",
      "source": [
        "plot_results([fiass_results])"
      ],
      "metadata": {
        "colab": {
          "base_uri": "https://localhost:8080/",
          "height": 671
        },
        "outputId": "1c2f591c-299f-4daa-90ed-dd8256aa6820",
        "id": "EJzeG_Emsl18"
      },
      "execution_count": 46,
      "outputs": [
        {
          "output_type": "stream",
          "name": "stdout",
          "text": [
            "[(1, np.float64(0.6144), 1814.6840041661155, 2.2208569049835205, 'batch_size'), (200, np.float64(0.5918), 1408.1612844884282, 1.4595263004302979, 'batch_size'), (500, np.float64(0.5914), 1381.981076864144, 1.9700124263763428, 'batch_size'), (1000, np.float64(0.5832), 1098.791600223934, 1.379971981048584, 'batch_size')]\n",
            "1\n",
            "200\n",
            "500\n",
            "1000\n"
          ]
        },
        {
          "output_type": "display_data",
          "data": {
            "text/plain": [
              "<Figure size 800x600 with 1 Axes>"
            ],
            "image/png": "[encoded data removed]"
          },
          "metadata": {}
        }
      ]
    }
  ],
  "metadata": {
    "kernelspec": {
      "display_name": "Python 3",
      "name": "python3"
    },
    "language_info": {
      "codemirror_mode": {
        "name": "ipython",
        "version": 3
      },
      "file_extension": ".py",
      "mimetype": "text/x-python",
      "name": "python",
      "nbconvert_exporter": "python",
      "pygments_lexer": "ipython3",
      "version": "3.10.7"
    },
    "colab": {
      "provenance": [],
      "toc_visible": true,
      "include_colab_link": true
    }
  },
  "nbformat": 4,
  "nbformat_minor": 0
}