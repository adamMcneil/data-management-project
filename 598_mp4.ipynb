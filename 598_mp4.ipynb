{
  "cells": [
    {
      "cell_type": "markdown",
      "metadata": {
        "id": "view-in-github",
        "colab_type": "text"
      },
      "source": [
        "<a href=\"https://colab.research.google.com/github/adamMcneil/data-management-project/blob/main/598_mp4.ipynb\" target=\"_parent\"><img src=\"https://colab.research.google.com/assets/colab-badge.svg\" alt=\"Open In Colab\"/></a>"
      ]
    },
    {
      "cell_type": "code",
      "execution_count": 2,
      "metadata": {
        "collapsed": true,
        "colab": {
          "base_uri": "https://localhost:8080/"
        },
        "id": "BHOxFKTMPPFV",
        "outputId": "193fafe0-a793-49ab-9055-3e5a14737f7a"
      },
      "outputs": [
        {
          "output_type": "stream",
          "name": "stdout",
          "text": [
            "Requirement already satisfied: h5py in /usr/local/lib/python3.11/dist-packages (3.13.0)\n",
            "Requirement already satisfied: faiss-cpu in /usr/local/lib/python3.11/dist-packages (1.10.0)\n",
            "Requirement already satisfied: requests in /usr/local/lib/python3.11/dist-packages (2.32.3)\n",
            "Requirement already satisfied: scann in /usr/local/lib/python3.11/dist-packages (1.4.0)\n",
            "Requirement already satisfied: numpy>=1.19.3 in /usr/local/lib/python3.11/dist-packages (from h5py) (2.0.2)\n",
            "Requirement already satisfied: packaging in /usr/local/lib/python3.11/dist-packages (from faiss-cpu) (24.2)\n",
            "Requirement already satisfied: charset-normalizer<4,>=2 in /usr/local/lib/python3.11/dist-packages (from requests) (3.4.1)\n",
            "Requirement already satisfied: idna<4,>=2.5 in /usr/local/lib/python3.11/dist-packages (from requests) (3.10)\n",
            "Requirement already satisfied: urllib3<3,>=1.21.1 in /usr/local/lib/python3.11/dist-packages (from requests) (2.3.0)\n",
            "Requirement already satisfied: certifi>=2017.4.17 in /usr/local/lib/python3.11/dist-packages (from requests) (2025.1.31)\n",
            "Requirement already satisfied: protobuf in /usr/local/lib/python3.11/dist-packages (from scann) (5.29.4)\n"
          ]
        }
      ],
      "source": [
        "import sys\n",
        "!{sys.executable} -m pip install h5py faiss-cpu requests scann\n",
        "import faiss\n",
        "import h5py\n",
        "import numpy as np\n",
        "import time\n",
        "import matplotlib.pyplot as plt\n",
        "import os\n",
        "import requests\n",
        "import scann\n",
        "\n",
        "SIFT1M_URL = \"http://ann-benchmarks.com/sift-128-euclidean.hdf5\"\n",
        "SIFT1M_FILENAME = \"sift-128-euclidean.hdf5\""
      ]
    },
    {
      "cell_type": "code",
      "execution_count": 3,
      "metadata": {
        "id": "qa_yzdxePPFW"
      },
      "outputs": [],
      "source": [
        "def download_sift1m():\n",
        "    \"\"\"Downloads the SIFT1M dataset if it's not already present.\"\"\"\n",
        "    if not os.path.exists(SIFT1M_FILENAME):\n",
        "        print(\"Downloading SIFT1M dataset...\")\n",
        "        response = requests.get(SIFT1M_URL, stream=True)\n",
        "        with open(SIFT1M_FILENAME, \"wb\") as f:\n",
        "            for chunk in response.iter_content(chunk_size=8192):\n",
        "                f.write(chunk)\n",
        "        print(\"Download complete.\")\n",
        "    else:\n",
        "        print(\"SIFT1M dataset already exists.\")"
      ]
    },
    {
      "cell_type": "code",
      "execution_count": 4,
      "metadata": {
        "id": "94SAPcExPPFW"
      },
      "outputs": [],
      "source": [
        "def load_sift1m():\n",
        "    with h5py.File(\"sift-128-euclidean.hdf5\", \"r\") as f:\n",
        "        train_data = np.array(f[\"train\"], dtype=np.float32)\n",
        "        test_queries = np.array(f[\"test\"], dtype=np.float32)\n",
        "        ground_truth = np.array(f[\"neighbors\"], dtype=np.int64)[:, 0]\n",
        "    print(\"Dataset loaded.\")\n",
        "    return train_data, test_queries, ground_truth"
      ]
    },
    {
      "cell_type": "code",
      "execution_count": null,
      "metadata": {
        "id": "uxlEyIxwPPFW"
      },
      "outputs": [],
      "source": [
        "def evaluate_hnsw(train_data, test_queries, ground_truth, M=32, efSearch_vals=[10, 50, 100, 200]):\n",
        "    d = train_data.shape[1]\n",
        "    index = faiss.IndexHNSWFlat(d, M, faiss.METRIC_L2)\n",
        "    index.hnsw.efConstruction = 200\n",
        "    index.add(train_data)\n",
        "\n",
        "    results = []\n",
        "    for ef in efSearch_vals:\n",
        "        print(\"Testing ef value:\", ef)\n",
        "        index.hnsw.efSearch = ef\n",
        "        start_time = time.time()\n",
        "        _, indices = index.search(test_queries, 1)\n",
        "        elapsed_time = time.time() - start_time\n",
        "\n",
        "        recall = np.mean(indices[:, 0] == ground_truth)\n",
        "        qps = len(test_queries) / elapsed_time\n",
        "        results.append((ef, recall, qps))\n",
        "        print(\"Took:\", elapsed_time, \"seconds\")\n",
        "\n",
        "    print(\"HNSW evaluated.\")\n",
        "\n",
        "    return results"
      ]
    },
    {
      "cell_type": "code",
      "source": [
        "def evaluate_scann(train_data, test_queries, ground_truth, num_neighbors=1, num_search_trees=30, num_leaves=2000, num_leaves_to_search_vals=[10, 50, 100, 200], quantize=True):\n",
        "    train_data = train_data.astype(np.float32)\n",
        "    test_queries = test_queries.astype(np.float32)\n",
        "\n",
        "    results = []\n",
        "\n",
        "    for num_leaves_to_search in num_leaves_to_search_vals:\n",
        "        print(\"Building index\")\n",
        "        index = scann.scann_ops_pybind.builder(train_data, num_neighbors, \"dot_product\") \\\n",
        "        .tree(num_leaves=num_leaves, num_leaves_to_search=num_leaves_to_search).score_ah(2, anisotropic_quantization_threshold=0.2).build()\n",
        "\n",
        "        print(\"Testing num_leaves_to_search:\", num_leaves_to_search)\n",
        "        start_time = time.time()\n",
        "        indices = []\n",
        "        for query in test_queries:\n",
        "            indices.append(index.search(query, num_neighbors))\n",
        "        elapsed_time = time.time() - start_time\n",
        "\n",
        "        print(\"Took:\", elapsed_time, \"seconds\")\n",
        "\n",
        "        indices = np.array(indices)\n",
        "        recall = np.mean(indices[:, 0] == ground_truth)\n",
        "        qps = len(test_queries) / elapsed_time\n",
        "\n",
        "        results.append((num_leaves_to_search, recall, qps))\n",
        "\n",
        "    print(\"ScaNN evaluated.\")\n",
        "\n",
        "    return results\n"
      ],
      "metadata": {
        "id": "PYj3zK93nQ90"
      },
      "execution_count": 21,
      "outputs": []
    },
    {
      "cell_type": "code",
      "execution_count": 7,
      "metadata": {
        "id": "0eQc3IuVPPFW"
      },
      "outputs": [],
      "source": [
        "def evaluate_lsh(train_data, test_queries, ground_truth, nbits_vals=[32, 64, 512, 768]):\n",
        "    d = train_data.shape[1]\n",
        "    results = []\n",
        "\n",
        "    for nbits in nbits_vals:\n",
        "        index = faiss.IndexLSH(d, nbits)\n",
        "        index.train(train_data)\n",
        "        index.add(train_data)\n",
        "\n",
        "        start_time = time.time()\n",
        "        _, indices = index.search(test_queries, 1)\n",
        "        elapsed_time = time.time() - start_time\n",
        "\n",
        "        recall = np.mean(indices[:, 0] == ground_truth)\n",
        "        qps = len(test_queries) / elapsed_time\n",
        "        results.append((nbits, recall, qps))\n",
        "\n",
        "    print(\"LSH evaluated.\")\n",
        "\n",
        "    return results"
      ]
    },
    {
      "cell_type": "code",
      "execution_count": 8,
      "metadata": {
        "id": "lusnj10jPPFW"
      },
      "outputs": [],
      "source": [
        "def plot_results(hnsw_results, lsh_results):\n",
        "    plt.figure(figsize=(8, 6))\n",
        "\n",
        "    for ef, recall, qps in hnsw_results:\n",
        "        plt.scatter(qps, recall, label=f'HNSW ef={ef}', marker='o')\n",
        "    for nbits, recall, qps in lsh_results:\n",
        "        plt.scatter(qps, recall, label=f'LSH nbits={nbits}', marker='x')\n",
        "\n",
        "    plt.xlabel(\"Queries Per Second (QPS)\")\n",
        "    plt.ylabel(\"1-Recall@1\")\n",
        "    plt.title(\"HNSW vs LSH: QPS vs Recall\")\n",
        "    plt.legend()\n",
        "    plt.grid()\n",
        "    plt.show()"
      ]
    },
    {
      "cell_type": "code",
      "source": [
        "download_sift1m()\n",
        "train_data, test_queries, ground_truth = load_sift1m()\n",
        "\n",
        "\n",
        "print(\"Train data shape:\", train_data.shape)\n",
        "print(train_data)\n",
        "print(\"Test queries shape:\", test_queries.shape)\n",
        "print(test_queries)\n",
        "print(\"Ground truth shape:\", ground_truth.shape)\n",
        "print(ground_truth)"
      ],
      "metadata": {
        "colab": {
          "base_uri": "https://localhost:8080/"
        },
        "id": "zl6EUdmziMDY",
        "outputId": "2f93970b-1fcf-47ea-db46-43c34a7a2c6b"
      },
      "execution_count": 9,
      "outputs": [
        {
          "output_type": "stream",
          "name": "stdout",
          "text": [
            "SIFT1M dataset already exists.\n",
            "Dataset loaded.\n",
            "Train data shape: (1000000, 128)\n",
            "[[  0.  16.  35. ...  25.  23.   1.]\n",
            " [ 14.  35.  19. ...  11.  21.  33.]\n",
            " [  0.   1.   5. ...   4.  23.  10.]\n",
            " ...\n",
            " [ 30.  12.  12. ...  50.  10.   0.]\n",
            " [  0.   5.  12. ...   1.   2.  13.]\n",
            " [114.  31.   0. ...  25.  16.   0.]]\n",
            "Test queries shape: (10000, 128)\n",
            "[[  1.   3.  11. ...  42.  48.  11.]\n",
            " [ 40.  25.  11. ...   3.  19.  13.]\n",
            " [ 28.   4.   3. ...   2.  54.  47.]\n",
            " ...\n",
            " [  0.  15.  64. ...   3.  62. 118.]\n",
            " [131.   2.   0. ...   7.   0.   0.]\n",
            " [ 23.   0.   0. ...  79.  16.   4.]]\n",
            "Ground truth shape: (10000,)\n",
            "[932085 413247 669835 ... 123855 755327 874343]\n"
          ]
        }
      ]
    },
    {
      "cell_type": "code",
      "source": [
        "hnsw_results = evaluate_hnsw(train_data, test_queries, ground_truth)\n",
        "print(hnsw_results)"
      ],
      "metadata": {
        "id": "wYfyY2zyUev3",
        "colab": {
          "base_uri": "https://localhost:8080/"
        },
        "collapsed": true,
        "outputId": "fd3a09c6-062a-4122-ea64-933d1db35783"
      },
      "execution_count": 10,
      "outputs": [
        {
          "output_type": "stream",
          "name": "stdout",
          "text": [
            "HNSW evaluated.\n",
            "[(10, np.float64(0.8527), 13697.82450942547), (50, np.float64(0.9786), 4714.549862811372), (100, np.float64(0.9905), 2337.0110079504434), (200, np.float64(0.9929), 1304.2894048844369)]\n"
          ]
        }
      ]
    },
    {
      "cell_type": "code",
      "source": [
        "scann_results = evaluate_scann(train_data, test_queries, ground_truth)\n",
        "print(scann_results)\n"
      ],
      "metadata": {
        "colab": {
          "base_uri": "https://localhost:8080/"
        },
        "id": "rv94lDT6aGJ0",
        "outputId": "ecb9df18-08a8-483b-eef1-f3863e7c36f2"
      },
      "execution_count": 24,
      "outputs": [
        {
          "output_type": "stream",
          "name": "stdout",
          "text": [
            "Building index\n",
            "Testing num_leaves_to_search: 10\n",
            "Took: 0.9379034042358398 seconds\n",
            "Building index\n",
            "Testing num_leaves_to_search: 50\n",
            "Took: 2.4570600986480713 seconds\n",
            "Building index\n",
            "Testing num_leaves_to_search: 100\n",
            "Took: 5.083887100219727 seconds\n",
            "Building index\n",
            "Testing num_leaves_to_search: 200\n",
            "Took: 7.855194330215454 seconds\n",
            "ScaNN evaluated.\n",
            "[(10, np.float64(2.135e-05), 10662.078797067099), (50, np.float64(2.58e-05), 4069.904519430445), (100, np.float64(2.598e-05), 1966.9988343304867), (200, np.float64(2.575e-05), 1273.0429801761145)]\n"
          ]
        }
      ]
    },
    {
      "cell_type": "code",
      "source": [
        "\n",
        "print(scann_results)\n",
        "plot_results(hnsw_results, scann_results)"
      ],
      "metadata": {
        "colab": {
          "base_uri": "https://localhost:8080/",
          "height": 581
        },
        "outputId": "c8d47aad-5461-4030-afbb-fb24157c3b22",
        "id": "EJzeG_Emsl18"
      },
      "execution_count": 25,
      "outputs": [
        {
          "output_type": "stream",
          "name": "stdout",
          "text": [
            "[(10, np.float64(2.135e-05), 10662.078797067099), (50, np.float64(2.58e-05), 4069.904519430445), (100, np.float64(2.598e-05), 1966.9988343304867), (200, np.float64(2.575e-05), 1273.0429801761145)]\n"
          ]
        },
        {
          "output_type": "display_data",
          "data": {
            "text/plain": [
              "<Figure size 800x600 with 1 Axes>"
            ],
            "image/png": "[encoded data removed]"
          },
          "metadata": {}
        }
      ]
    }
  ],
  "metadata": {
    "kernelspec": {
      "display_name": "Python 3",
      "name": "python3"
    },
    "language_info": {
      "codemirror_mode": {
        "name": "ipython",
        "version": 3
      },
      "file_extension": ".py",
      "mimetype": "text/x-python",
      "name": "python",
      "nbconvert_exporter": "python",
      "pygments_lexer": "ipython3",
      "version": "3.10.7"
    },
    "colab": {
      "provenance": [],
      "toc_visible": true,
      "include_colab_link": true
    }
  },
  "nbformat": 4,
  "nbformat_minor": 0
}